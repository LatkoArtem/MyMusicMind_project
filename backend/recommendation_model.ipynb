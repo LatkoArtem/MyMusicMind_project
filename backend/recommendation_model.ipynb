{
 "cells": [
  {
   "cell_type": "markdown",
   "id": "daf62060",
   "metadata": {},
   "source": [
    "# RECOMMENDATION MODEL\n"
   ]
  },
  {
   "cell_type": "markdown",
   "id": "99f2bd5f",
   "metadata": {},
   "source": [
    "Connect to mymusicmind data base"
   ]
  },
  {
   "cell_type": "code",
   "execution_count": 18,
   "id": "7b13ebb7",
   "metadata": {},
   "outputs": [
    {
     "data": {
      "text/html": [
       "<table border=\"1\" class=\"dataframe\">\n",
       "  <thead>\n",
       "    <tr style=\"text-align: right;\">\n",
       "      <th>pid</th>\n",
       "      <th>name</th>\n",
       "      <th>description</th>\n",
       "      <th>modified_at</th>\n",
       "      <th>num_artists</th>\n",
       "      <th>num_albums</th>\n",
       "      <th>num_tracks</th>\n",
       "      <th>num_followers</th>\n",
       "      <th>num_edits</th>\n",
       "      <th>duration_ms</th>\n",
       "      <th>collaborative</th>\n",
       "    </tr>\n",
       "  </thead>\n",
       "  <tbody>\n",
       "    <tr>\n",
       "      <td>0</td>\n",
       "      <td>Throwbacks</td>\n",
       "      <td>None</td>\n",
       "      <td>2017-04-29 03:00:00</td>\n",
       "      <td>37</td>\n",
       "      <td>47</td>\n",
       "      <td>52</td>\n",
       "      <td>1</td>\n",
       "      <td>None</td>\n",
       "      <td>None</td>\n",
       "      <td>None</td>\n",
       "    </tr>\n",
       "    <tr>\n",
       "      <td>1</td>\n",
       "      <td>Awesome Playlist</td>\n",
       "      <td>None</td>\n",
       "      <td>2017-09-28 03:00:00</td>\n",
       "      <td>21</td>\n",
       "      <td>23</td>\n",
       "      <td>39</td>\n",
       "      <td>1</td>\n",
       "      <td>None</td>\n",
       "      <td>None</td>\n",
       "      <td>None</td>\n",
       "    </tr>\n",
       "    <tr>\n",
       "      <td>2</td>\n",
       "      <td>korean</td>\n",
       "      <td>None</td>\n",
       "      <td>2017-09-18 03:00:00</td>\n",
       "      <td>31</td>\n",
       "      <td>51</td>\n",
       "      <td>64</td>\n",
       "      <td>1</td>\n",
       "      <td>None</td>\n",
       "      <td>None</td>\n",
       "      <td>None</td>\n",
       "    </tr>\n",
       "    <tr>\n",
       "      <td>3</td>\n",
       "      <td>mat</td>\n",
       "      <td>None</td>\n",
       "      <td>2017-07-26 03:00:00</td>\n",
       "      <td>86</td>\n",
       "      <td>107</td>\n",
       "      <td>126</td>\n",
       "      <td>1</td>\n",
       "      <td>None</td>\n",
       "      <td>None</td>\n",
       "      <td>None</td>\n",
       "    </tr>\n",
       "    <tr>\n",
       "      <td>4</td>\n",
       "      <td>90s</td>\n",
       "      <td>None</td>\n",
       "      <td>2014-06-02 03:00:00</td>\n",
       "      <td>16</td>\n",
       "      <td>16</td>\n",
       "      <td>17</td>\n",
       "      <td>2</td>\n",
       "      <td>None</td>\n",
       "      <td>None</td>\n",
       "      <td>None</td>\n",
       "    </tr>\n",
       "  </tbody>\n",
       "</table>"
      ],
      "text/plain": [
       "<IPython.core.display.HTML object>"
      ]
     },
     "metadata": {},
     "output_type": "display_data"
    }
   ],
   "source": [
    "import pandas as pd\n",
    "from sqlalchemy import create_engine, text\n",
    "from config import DB_CONFIG\n",
    "from IPython.display import display, HTML\n",
    "\n",
    "connection_string = (\n",
    "    f\"postgresql+psycopg2://{DB_CONFIG['user']}:{DB_CONFIG['password']}@\"\n",
    "    f\"{DB_CONFIG['host']}:{DB_CONFIG['port']}/{DB_CONFIG['database']}\"\n",
    ")\n",
    "\n",
    "engine = create_engine(connection_string)\n",
    "\n",
    "with engine.connect() as connection:\n",
    "    result = connection.execute(text(\n",
    "        '''\n",
    "        SELECT * FROM playlists\n",
    "        ORDER BY pid\n",
    "        LIMIT 5\n",
    "        '''\n",
    "    ))\n",
    "    # Створюємо DataFrame із всіх рядків та назв колонок\n",
    "    df = pd.DataFrame(result.fetchall(), columns=result.keys())\n",
    "\n",
    "display(HTML(df.to_html(index=False)))"
   ]
  },
  {
   "cell_type": "code",
   "execution_count": null,
   "id": "8d8cd1c4",
   "metadata": {},
   "outputs": [],
   "source": []
  }
 ],
 "metadata": {
  "kernelspec": {
   "display_name": "venv",
   "language": "python",
   "name": "python3"
  },
  "language_info": {
   "codemirror_mode": {
    "name": "ipython",
    "version": 3
   },
   "file_extension": ".py",
   "mimetype": "text/x-python",
   "name": "python",
   "nbconvert_exporter": "python",
   "pygments_lexer": "ipython3",
   "version": "3.12.4"
  }
 },
 "nbformat": 4,
 "nbformat_minor": 5
}
